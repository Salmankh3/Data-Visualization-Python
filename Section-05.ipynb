{
 "cells": [
  {
   "cell_type": "code",
   "execution_count": 3,
   "metadata": {},
   "outputs": [],
   "source": [
    "import numpy as np\n",
    "import matplotlib.pyplot as plt\n",
    "import ipywidgets as widgets\n",
    "from IPython.display import display\n",
    "import os"
   ]
  },
  {
   "cell_type": "code",
   "execution_count": 6,
   "metadata": {},
   "outputs": [
    {
     "data": {
      "application/vnd.jupyter.widget-view+json": {
       "model_id": "782712c2407f4a0bb73b5666017ace39",
       "version_major": 2,
       "version_minor": 0
      },
      "text/plain": [
       "interactive(children=(Play(value=1, description='Iteration', max=1000, min=1), Output()), _dom_classes=('widge…"
      ]
     },
     "metadata": {},
     "output_type": "display_data"
    }
   ],
   "source": [
    "def exp(maxItr):\n",
    "    x = np.arange(5*maxItr)\n",
    "    y = np.exp(x)\n",
    "    \n",
    "    plt.scatter(x,y,color=\"g\",marker=\"o\")\n",
    "    plt.xlabel(\"X\")\n",
    "    plt.ylabel(\"Y\")\n",
    "    plt.title(\"Widget\")\n",
    "    plt.show()\n",
    "    \n",
    "maxItr = widgets.Play(min=1,max=1000 ,value=1,description=\"Iteration\")\n",
    "widgets.interactive(exp, maxItr=maxItr)"
   ]
  },
  {
   "cell_type": "code",
   "execution_count": 11,
   "metadata": {},
   "outputs": [
    {
     "data": {
      "application/vnd.jupyter.widget-view+json": {
       "model_id": "b2dd35cc4bba4469bd37a78e29fa4c25",
       "version_major": 2,
       "version_minor": 0
      },
      "text/plain": [
       "interactive(children=(IntSlider(value=1, description='Iteration', max=1000, min=1), Output()), _dom_classes=('…"
      ]
     },
     "metadata": {},
     "output_type": "display_data"
    }
   ],
   "source": [
    "def expo(maxItr):\n",
    "    x = np.arange(2*maxItr)\n",
    "    y = np.exp(x)\n",
    "        \n",
    "    plt.scatter(x,y,color=\"k\",marker=\"o\")\n",
    "    plt.xlabel(\"X\")\n",
    "    plt.ylabel(\"Y\")\n",
    "    plt.title(\"Widget\")\n",
    "    plt.show()\n",
    "    \n",
    "maxItr = widgets.IntSlider(min=1,max=1000 ,value=1,description=\"Iteration\")\n",
    "widgets.interactive(expo, maxItr=maxItr)"
   ]
  },
  {
   "cell_type": "code",
   "execution_count": 15,
   "metadata": {},
   "outputs": [
    {
     "data": {
      "application/vnd.jupyter.widget-view+json": {
       "model_id": "f38dbcde21b54f3ab94be83c9576c0fb",
       "version_major": 2,
       "version_minor": 0
      },
      "text/plain": [
       "interactive(children=(FloatSlider(value=1.0, description='Iteration', max=1000.0, min=1.0, orientation='vertic…"
      ]
     },
     "metadata": {},
     "output_type": "display_data"
    }
   ],
   "source": [
    "def sin(maxItr):\n",
    "    x = np.arange(maxItr)\n",
    "    y = np.sin(x)\n",
    "        \n",
    "    plt.scatter(x,y,color=\"r\",marker=\"o\")\n",
    "    plt.xlabel(\"X\")\n",
    "    plt.ylabel(\"Y\")\n",
    "    plt.title(\"Widget\")\n",
    "    plt.show()\n",
    "    \n",
    "maxItr = widgets.FloatSlider(min=1,max=1000 ,value=1,description=\"Iteration\",orientation=\"vertical\")\n",
    "widgets.interactive(sin, maxItr=maxItr)"
   ]
  },
  {
   "cell_type": "code",
   "execution_count": 18,
   "metadata": {},
   "outputs": [
    {
     "data": {
      "application/vnd.jupyter.widget-view+json": {
       "model_id": "abe226f8c93d490caa1c76120c5a48ea",
       "version_major": 2,
       "version_minor": 0
      },
      "text/plain": [
       "interactive(children=(BoundedIntText(value=1, description='Iteration', max=10, min=1), Output()), _dom_classes…"
      ]
     },
     "metadata": {},
     "output_type": "display_data"
    }
   ],
   "source": [
    "def power(maxItr):\n",
    "    x = np.arange(maxItr)\n",
    "    y = np.power(6,x)\n",
    "        \n",
    "    plt.scatter(x,y,color=\"r\",marker=\"o\")\n",
    "    plt.xlabel(\"X\")\n",
    "    plt.ylabel(\"Y\")\n",
    "    plt.title(\"Widget\")\n",
    "    plt.show()\n",
    "    \n",
    "maxItr = widgets.BoundedIntText(min=1,max=10 ,value=1,description=\"Iteration\")\n",
    "widgets.interactive(power, maxItr=maxItr)"
   ]
  },
  {
   "cell_type": "code",
   "execution_count": null,
   "metadata": {},
   "outputs": [],
   "source": []
  }
 ],
 "metadata": {
  "kernelspec": {
   "display_name": "Python 3",
   "language": "python",
   "name": "python3"
  },
  "language_info": {
   "codemirror_mode": {
    "name": "ipython",
    "version": 3
   },
   "file_extension": ".py",
   "mimetype": "text/x-python",
   "name": "python",
   "nbconvert_exporter": "python",
   "pygments_lexer": "ipython3",
   "version": "3.7.6"
  }
 },
 "nbformat": 4,
 "nbformat_minor": 4
}
